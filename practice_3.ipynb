{
  "nbformat": 4,
  "nbformat_minor": 0,
  "metadata": {
    "colab": {
      "provenance": [],
      "authorship_tag": "ABX9TyMzugMKBqfjz8gsk0Hl2IWr",
      "include_colab_link": true
    },
    "kernelspec": {
      "name": "python3",
      "display_name": "Python 3"
    },
    "language_info": {
      "name": "python"
    }
  },
  "cells": [
    {
      "cell_type": "markdown",
      "metadata": {
        "id": "view-in-github",
        "colab_type": "text"
      },
      "source": [
        "<a href=\"https://colab.research.google.com/github/ArseniyKoz/uni.ml/blob/t2p/practice_3.ipynb\" target=\"_parent\"><img src=\"https://colab.research.google.com/assets/colab-badge.svg\" alt=\"Open In Colab\"/></a>"
      ]
    },
    {
      "cell_type": "code",
      "execution_count": null,
      "metadata": {
        "id": "V3SRrtoex8yB"
      },
      "outputs": [],
      "source": [
        "from google.colab import files\n",
        "import csv\n",
        "from sklearn.datasets import load_diabetes\n",
        "data = load_diabetes(as_frame = True)\n",
        "#data"
      ]
    },
    {
      "cell_type": "code",
      "source": [
        "from sklearn.model_selection import train_test_split\n",
        "from sklearn.linear_model import LinearRegression\n",
        "import matplotlib.pyplot as plt\n",
        "from sklearn.preprocessing import StandardScaler\n",
        "import numpy as np\n",
        "from sklearn.metrics import mean_squared_error, mean_absolute_error, r2_score, make_scorer"
      ],
      "metadata": {
        "id": "VQKbe46w0tgX"
      },
      "execution_count": null,
      "outputs": []
    },
    {
      "cell_type": "code",
      "source": [
        "X_train, X_test, y_train, y_test = train_test_split(data.data, data.target, train_size = 0.7, random_state = 241)\n",
        "scaler = StandardScaler()\n",
        "X_train = scaler.fit_transform(X_train,y_train)\n",
        "X_test = scaler.transform(X_test)"
      ],
      "metadata": {
        "id": "l-YNnLvM22Au"
      },
      "execution_count": null,
      "outputs": []
    },
    {
      "cell_type": "code",
      "source": [
        "X = data.data\n",
        "X.corr().style.background_gradient(cmap = 'coolwarm')"
      ],
      "metadata": {
        "id": "lJp8HnV8cwiG",
        "colab": {
          "base_uri": "https://localhost:8080/",
          "height": 363
        },
        "outputId": "3b143d65-541e-46a3-ea7d-512c4497139f"
      },
      "execution_count": null,
      "outputs": [
        {
          "output_type": "execute_result",
          "data": {
            "text/plain": [
              "<pandas.io.formats.style.Styler at 0x7e2757da8b50>"
            ],
            "text/html": [
              "<style type=\"text/css\">\n",
              "#T_fdc38_row0_col0, #T_fdc38_row1_col1, #T_fdc38_row2_col2, #T_fdc38_row3_col3, #T_fdc38_row4_col4, #T_fdc38_row5_col5, #T_fdc38_row6_col6, #T_fdc38_row7_col7, #T_fdc38_row8_col8, #T_fdc38_row9_col9 {\n",
              "  background-color: #b40426;\n",
              "  color: #f1f1f1;\n",
              "}\n",
              "#T_fdc38_row0_col1 {\n",
              "  background-color: #c0d4f5;\n",
              "  color: #000000;\n",
              "}\n",
              "#T_fdc38_row0_col2 {\n",
              "  background-color: #c1d4f4;\n",
              "  color: #000000;\n",
              "}\n",
              "#T_fdc38_row0_col3 {\n",
              "  background-color: #cbd8ee;\n",
              "  color: #000000;\n",
              "}\n",
              "#T_fdc38_row0_col4, #T_fdc38_row1_col0 {\n",
              "  background-color: #86a9fc;\n",
              "  color: #f1f1f1;\n",
              "}\n",
              "#T_fdc38_row0_col5 {\n",
              "  background-color: #aec9fc;\n",
              "  color: #000000;\n",
              "}\n",
              "#T_fdc38_row0_col6, #T_fdc38_row2_col5, #T_fdc38_row3_col0 {\n",
              "  background-color: #bad0f8;\n",
              "  color: #000000;\n",
              "}\n",
              "#T_fdc38_row0_col7, #T_fdc38_row7_col9 {\n",
              "  background-color: #e7d7ce;\n",
              "  color: #000000;\n",
              "}\n",
              "#T_fdc38_row0_col8 {\n",
              "  background-color: #d7dce3;\n",
              "  color: #000000;\n",
              "}\n",
              "#T_fdc38_row0_col9, #T_fdc38_row3_col1, #T_fdc38_row4_col2 {\n",
              "  background-color: #cfdaea;\n",
              "  color: #000000;\n",
              "}\n",
              "#T_fdc38_row1_col2 {\n",
              "  background-color: #aac7fd;\n",
              "  color: #000000;\n",
              "}\n",
              "#T_fdc38_row1_col3, #T_fdc38_row4_col3 {\n",
              "  background-color: #b2ccfb;\n",
              "  color: #000000;\n",
              "}\n",
              "#T_fdc38_row1_col4, #T_fdc38_row6_col0, #T_fdc38_row6_col1, #T_fdc38_row6_col2, #T_fdc38_row6_col3, #T_fdc38_row6_col5, #T_fdc38_row6_col7, #T_fdc38_row6_col8, #T_fdc38_row6_col9, #T_fdc38_row7_col6 {\n",
              "  background-color: #3b4cc0;\n",
              "  color: #f1f1f1;\n",
              "}\n",
              "#T_fdc38_row1_col5 {\n",
              "  background-color: #98b9ff;\n",
              "  color: #000000;\n",
              "}\n",
              "#T_fdc38_row1_col6 {\n",
              "  background-color: #7da0f9;\n",
              "  color: #f1f1f1;\n",
              "}\n",
              "#T_fdc38_row1_col7 {\n",
              "  background-color: #f3c7b1;\n",
              "  color: #000000;\n",
              "}\n",
              "#T_fdc38_row1_col8 {\n",
              "  background-color: #bed2f6;\n",
              "  color: #000000;\n",
              "}\n",
              "#T_fdc38_row1_col9, #T_fdc38_row5_col1 {\n",
              "  background-color: #b9d0f9;\n",
              "  color: #000000;\n",
              "}\n",
              "#T_fdc38_row2_col0 {\n",
              "  background-color: #89acfd;\n",
              "  color: #000000;\n",
              "}\n",
              "#T_fdc38_row2_col1 {\n",
              "  background-color: #abc8fd;\n",
              "  color: #000000;\n",
              "}\n",
              "#T_fdc38_row2_col3, #T_fdc38_row8_col3 {\n",
              "  background-color: #d9dce1;\n",
              "  color: #000000;\n",
              "}\n",
              "#T_fdc38_row2_col4 {\n",
              "  background-color: #82a6fb;\n",
              "  color: #f1f1f1;\n",
              "}\n",
              "#T_fdc38_row2_col6, #T_fdc38_row3_col4 {\n",
              "  background-color: #80a3fa;\n",
              "  color: #f1f1f1;\n",
              "}\n",
              "#T_fdc38_row2_col7 {\n",
              "  background-color: #f7b99e;\n",
              "  color: #000000;\n",
              "}\n",
              "#T_fdc38_row2_col8 {\n",
              "  background-color: #f2cab5;\n",
              "  color: #000000;\n",
              "}\n",
              "#T_fdc38_row2_col9, #T_fdc38_row3_col9 {\n",
              "  background-color: #e2dad5;\n",
              "  color: #000000;\n",
              "}\n",
              "#T_fdc38_row3_col2 {\n",
              "  background-color: #ead4c8;\n",
              "  color: #000000;\n",
              "}\n",
              "#T_fdc38_row3_col5 {\n",
              "  background-color: #a5c3fe;\n",
              "  color: #000000;\n",
              "}\n",
              "#T_fdc38_row3_col6, #T_fdc38_row8_col0 {\n",
              "  background-color: #a6c4fe;\n",
              "  color: #000000;\n",
              "}\n",
              "#T_fdc38_row3_col7, #T_fdc38_row7_col2 {\n",
              "  background-color: #edd1c2;\n",
              "  color: #000000;\n",
              "}\n",
              "#T_fdc38_row3_col8 {\n",
              "  background-color: #ecd3c5;\n",
              "  color: #000000;\n",
              "}\n",
              "#T_fdc38_row4_col0, #T_fdc38_row5_col3, #T_fdc38_row5_col6 {\n",
              "  background-color: #a2c1ff;\n",
              "  color: #000000;\n",
              "}\n",
              "#T_fdc38_row4_col1 {\n",
              "  background-color: #9ebeff;\n",
              "  color: #000000;\n",
              "}\n",
              "#T_fdc38_row4_col5 {\n",
              "  background-color: #d24b40;\n",
              "  color: #f1f1f1;\n",
              "}\n",
              "#T_fdc38_row4_col6 {\n",
              "  background-color: #d1dae9;\n",
              "  color: #000000;\n",
              "}\n",
              "#T_fdc38_row4_col7 {\n",
              "  background-color: #f59f80;\n",
              "  color: #000000;\n",
              "}\n",
              "#T_fdc38_row4_col8 {\n",
              "  background-color: #f7bca1;\n",
              "  color: #000000;\n",
              "}\n",
              "#T_fdc38_row4_col9 {\n",
              "  background-color: #d5dbe5;\n",
              "  color: #000000;\n",
              "}\n",
              "#T_fdc38_row5_col0 {\n",
              "  background-color: #96b7ff;\n",
              "  color: #000000;\n",
              "}\n",
              "#T_fdc38_row5_col2 {\n",
              "  background-color: #d2dbe8;\n",
              "  color: #000000;\n",
              "}\n",
              "#T_fdc38_row5_col4 {\n",
              "  background-color: #d85646;\n",
              "  color: #f1f1f1;\n",
              "}\n",
              "#T_fdc38_row5_col7 {\n",
              "  background-color: #ed8366;\n",
              "  color: #f1f1f1;\n",
              "}\n",
              "#T_fdc38_row5_col8 {\n",
              "  background-color: #e0dbd8;\n",
              "  color: #000000;\n",
              "}\n",
              "#T_fdc38_row5_col9 {\n",
              "  background-color: #cdd9ec;\n",
              "  color: #000000;\n",
              "}\n",
              "#T_fdc38_row6_col4 {\n",
              "  background-color: #3f53c6;\n",
              "  color: #f1f1f1;\n",
              "}\n",
              "#T_fdc38_row7_col0 {\n",
              "  background-color: #90b2fe;\n",
              "  color: #000000;\n",
              "}\n",
              "#T_fdc38_row7_col1 {\n",
              "  background-color: #e1dad6;\n",
              "  color: #000000;\n",
              "}\n",
              "#T_fdc38_row7_col3 {\n",
              "  background-color: #b6cefa;\n",
              "  color: #000000;\n",
              "}\n",
              "#T_fdc38_row7_col4 {\n",
              "  background-color: #e3d9d3;\n",
              "  color: #000000;\n",
              "}\n",
              "#T_fdc38_row7_col5 {\n",
              "  background-color: #f7a688;\n",
              "  color: #000000;\n",
              "}\n",
              "#T_fdc38_row7_col8 {\n",
              "  background-color: #f6a283;\n",
              "  color: #000000;\n",
              "}\n",
              "#T_fdc38_row8_col1 {\n",
              "  background-color: #bbd1f8;\n",
              "  color: #000000;\n",
              "}\n",
              "#T_fdc38_row8_col2 {\n",
              "  background-color: #f1ccb8;\n",
              "  color: #000000;\n",
              "}\n",
              "#T_fdc38_row8_col4 {\n",
              "  background-color: #dcdddd;\n",
              "  color: #000000;\n",
              "}\n",
              "#T_fdc38_row8_col5 {\n",
              "  background-color: #cad8ef;\n",
              "  color: #000000;\n",
              "}\n",
              "#T_fdc38_row8_col6 {\n",
              "  background-color: #7a9df8;\n",
              "  color: #f1f1f1;\n",
              "}\n",
              "#T_fdc38_row8_col7 {\n",
              "  background-color: #f18d6f;\n",
              "  color: #f1f1f1;\n",
              "}\n",
              "#T_fdc38_row8_col9 {\n",
              "  background-color: #efcfbf;\n",
              "  color: #000000;\n",
              "}\n",
              "#T_fdc38_row9_col0 {\n",
              "  background-color: #afcafc;\n",
              "  color: #000000;\n",
              "}\n",
              "#T_fdc38_row9_col1 {\n",
              "  background-color: #c9d7f0;\n",
              "  color: #000000;\n",
              "}\n",
              "#T_fdc38_row9_col2 {\n",
              "  background-color: #ead5c9;\n",
              "  color: #000000;\n",
              "}\n",
              "#T_fdc38_row9_col3 {\n",
              "  background-color: #d8dce2;\n",
              "  color: #000000;\n",
              "}\n",
              "#T_fdc38_row9_col4 {\n",
              "  background-color: #9fbfff;\n",
              "  color: #000000;\n",
              "}\n",
              "#T_fdc38_row9_col5 {\n",
              "  background-color: #c3d5f4;\n",
              "  color: #000000;\n",
              "}\n",
              "#T_fdc38_row9_col6 {\n",
              "  background-color: #93b5fe;\n",
              "  color: #000000;\n",
              "}\n",
              "#T_fdc38_row9_col7 {\n",
              "  background-color: #f7b89c;\n",
              "  color: #000000;\n",
              "}\n",
              "#T_fdc38_row9_col8 {\n",
              "  background-color: #f4c6af;\n",
              "  color: #000000;\n",
              "}\n",
              "</style>\n",
              "<table id=\"T_fdc38\" class=\"dataframe\">\n",
              "  <thead>\n",
              "    <tr>\n",
              "      <th class=\"blank level0\" >&nbsp;</th>\n",
              "      <th id=\"T_fdc38_level0_col0\" class=\"col_heading level0 col0\" >age</th>\n",
              "      <th id=\"T_fdc38_level0_col1\" class=\"col_heading level0 col1\" >sex</th>\n",
              "      <th id=\"T_fdc38_level0_col2\" class=\"col_heading level0 col2\" >bmi</th>\n",
              "      <th id=\"T_fdc38_level0_col3\" class=\"col_heading level0 col3\" >bp</th>\n",
              "      <th id=\"T_fdc38_level0_col4\" class=\"col_heading level0 col4\" >s1</th>\n",
              "      <th id=\"T_fdc38_level0_col5\" class=\"col_heading level0 col5\" >s2</th>\n",
              "      <th id=\"T_fdc38_level0_col6\" class=\"col_heading level0 col6\" >s3</th>\n",
              "      <th id=\"T_fdc38_level0_col7\" class=\"col_heading level0 col7\" >s4</th>\n",
              "      <th id=\"T_fdc38_level0_col8\" class=\"col_heading level0 col8\" >s5</th>\n",
              "      <th id=\"T_fdc38_level0_col9\" class=\"col_heading level0 col9\" >s6</th>\n",
              "    </tr>\n",
              "  </thead>\n",
              "  <tbody>\n",
              "    <tr>\n",
              "      <th id=\"T_fdc38_level0_row0\" class=\"row_heading level0 row0\" >age</th>\n",
              "      <td id=\"T_fdc38_row0_col0\" class=\"data row0 col0\" >1.000000</td>\n",
              "      <td id=\"T_fdc38_row0_col1\" class=\"data row0 col1\" >0.173737</td>\n",
              "      <td id=\"T_fdc38_row0_col2\" class=\"data row0 col2\" >0.185085</td>\n",
              "      <td id=\"T_fdc38_row0_col3\" class=\"data row0 col3\" >0.335428</td>\n",
              "      <td id=\"T_fdc38_row0_col4\" class=\"data row0 col4\" >0.260061</td>\n",
              "      <td id=\"T_fdc38_row0_col5\" class=\"data row0 col5\" >0.219243</td>\n",
              "      <td id=\"T_fdc38_row0_col6\" class=\"data row0 col6\" >-0.075181</td>\n",
              "      <td id=\"T_fdc38_row0_col7\" class=\"data row0 col7\" >0.203841</td>\n",
              "      <td id=\"T_fdc38_row0_col8\" class=\"data row0 col8\" >0.270774</td>\n",
              "      <td id=\"T_fdc38_row0_col9\" class=\"data row0 col9\" >0.301731</td>\n",
              "    </tr>\n",
              "    <tr>\n",
              "      <th id=\"T_fdc38_level0_row1\" class=\"row_heading level0 row1\" >sex</th>\n",
              "      <td id=\"T_fdc38_row1_col0\" class=\"data row1 col0\" >0.173737</td>\n",
              "      <td id=\"T_fdc38_row1_col1\" class=\"data row1 col1\" >1.000000</td>\n",
              "      <td id=\"T_fdc38_row1_col2\" class=\"data row1 col2\" >0.088161</td>\n",
              "      <td id=\"T_fdc38_row1_col3\" class=\"data row1 col3\" >0.241010</td>\n",
              "      <td id=\"T_fdc38_row1_col4\" class=\"data row1 col4\" >0.035277</td>\n",
              "      <td id=\"T_fdc38_row1_col5\" class=\"data row1 col5\" >0.142637</td>\n",
              "      <td id=\"T_fdc38_row1_col6\" class=\"data row1 col6\" >-0.379090</td>\n",
              "      <td id=\"T_fdc38_row1_col7\" class=\"data row1 col7\" >0.332115</td>\n",
              "      <td id=\"T_fdc38_row1_col8\" class=\"data row1 col8\" >0.149916</td>\n",
              "      <td id=\"T_fdc38_row1_col9\" class=\"data row1 col9\" >0.208133</td>\n",
              "    </tr>\n",
              "    <tr>\n",
              "      <th id=\"T_fdc38_level0_row2\" class=\"row_heading level0 row2\" >bmi</th>\n",
              "      <td id=\"T_fdc38_row2_col0\" class=\"data row2 col0\" >0.185085</td>\n",
              "      <td id=\"T_fdc38_row2_col1\" class=\"data row2 col1\" >0.088161</td>\n",
              "      <td id=\"T_fdc38_row2_col2\" class=\"data row2 col2\" >1.000000</td>\n",
              "      <td id=\"T_fdc38_row2_col3\" class=\"data row2 col3\" >0.395411</td>\n",
              "      <td id=\"T_fdc38_row2_col4\" class=\"data row2 col4\" >0.249777</td>\n",
              "      <td id=\"T_fdc38_row2_col5\" class=\"data row2 col5\" >0.261170</td>\n",
              "      <td id=\"T_fdc38_row2_col6\" class=\"data row2 col6\" >-0.366811</td>\n",
              "      <td id=\"T_fdc38_row2_col7\" class=\"data row2 col7\" >0.413807</td>\n",
              "      <td id=\"T_fdc38_row2_col8\" class=\"data row2 col8\" >0.446157</td>\n",
              "      <td id=\"T_fdc38_row2_col9\" class=\"data row2 col9\" >0.388680</td>\n",
              "    </tr>\n",
              "    <tr>\n",
              "      <th id=\"T_fdc38_level0_row3\" class=\"row_heading level0 row3\" >bp</th>\n",
              "      <td id=\"T_fdc38_row3_col0\" class=\"data row3 col0\" >0.335428</td>\n",
              "      <td id=\"T_fdc38_row3_col1\" class=\"data row3 col1\" >0.241010</td>\n",
              "      <td id=\"T_fdc38_row3_col2\" class=\"data row3 col2\" >0.395411</td>\n",
              "      <td id=\"T_fdc38_row3_col3\" class=\"data row3 col3\" >1.000000</td>\n",
              "      <td id=\"T_fdc38_row3_col4\" class=\"data row3 col4\" >0.242464</td>\n",
              "      <td id=\"T_fdc38_row3_col5\" class=\"data row3 col5\" >0.185548</td>\n",
              "      <td id=\"T_fdc38_row3_col6\" class=\"data row3 col6\" >-0.178762</td>\n",
              "      <td id=\"T_fdc38_row3_col7\" class=\"data row3 col7\" >0.257650</td>\n",
              "      <td id=\"T_fdc38_row3_col8\" class=\"data row3 col8\" >0.393480</td>\n",
              "      <td id=\"T_fdc38_row3_col9\" class=\"data row3 col9\" >0.390430</td>\n",
              "    </tr>\n",
              "    <tr>\n",
              "      <th id=\"T_fdc38_level0_row4\" class=\"row_heading level0 row4\" >s1</th>\n",
              "      <td id=\"T_fdc38_row4_col0\" class=\"data row4 col0\" >0.260061</td>\n",
              "      <td id=\"T_fdc38_row4_col1\" class=\"data row4 col1\" >0.035277</td>\n",
              "      <td id=\"T_fdc38_row4_col2\" class=\"data row4 col2\" >0.249777</td>\n",
              "      <td id=\"T_fdc38_row4_col3\" class=\"data row4 col3\" >0.242464</td>\n",
              "      <td id=\"T_fdc38_row4_col4\" class=\"data row4 col4\" >1.000000</td>\n",
              "      <td id=\"T_fdc38_row4_col5\" class=\"data row4 col5\" >0.896663</td>\n",
              "      <td id=\"T_fdc38_row4_col6\" class=\"data row4 col6\" >0.051519</td>\n",
              "      <td id=\"T_fdc38_row4_col7\" class=\"data row4 col7\" >0.542207</td>\n",
              "      <td id=\"T_fdc38_row4_col8\" class=\"data row4 col8\" >0.515503</td>\n",
              "      <td id=\"T_fdc38_row4_col9\" class=\"data row4 col9\" >0.325717</td>\n",
              "    </tr>\n",
              "    <tr>\n",
              "      <th id=\"T_fdc38_level0_row5\" class=\"row_heading level0 row5\" >s2</th>\n",
              "      <td id=\"T_fdc38_row5_col0\" class=\"data row5 col0\" >0.219243</td>\n",
              "      <td id=\"T_fdc38_row5_col1\" class=\"data row5 col1\" >0.142637</td>\n",
              "      <td id=\"T_fdc38_row5_col2\" class=\"data row5 col2\" >0.261170</td>\n",
              "      <td id=\"T_fdc38_row5_col3\" class=\"data row5 col3\" >0.185548</td>\n",
              "      <td id=\"T_fdc38_row5_col4\" class=\"data row5 col4\" >0.896663</td>\n",
              "      <td id=\"T_fdc38_row5_col5\" class=\"data row5 col5\" >1.000000</td>\n",
              "      <td id=\"T_fdc38_row5_col6\" class=\"data row5 col6\" >-0.196455</td>\n",
              "      <td id=\"T_fdc38_row5_col7\" class=\"data row5 col7\" >0.659817</td>\n",
              "      <td id=\"T_fdc38_row5_col8\" class=\"data row5 col8\" >0.318357</td>\n",
              "      <td id=\"T_fdc38_row5_col9\" class=\"data row5 col9\" >0.290600</td>\n",
              "    </tr>\n",
              "    <tr>\n",
              "      <th id=\"T_fdc38_level0_row6\" class=\"row_heading level0 row6\" >s3</th>\n",
              "      <td id=\"T_fdc38_row6_col0\" class=\"data row6 col0\" >-0.075181</td>\n",
              "      <td id=\"T_fdc38_row6_col1\" class=\"data row6 col1\" >-0.379090</td>\n",
              "      <td id=\"T_fdc38_row6_col2\" class=\"data row6 col2\" >-0.366811</td>\n",
              "      <td id=\"T_fdc38_row6_col3\" class=\"data row6 col3\" >-0.178762</td>\n",
              "      <td id=\"T_fdc38_row6_col4\" class=\"data row6 col4\" >0.051519</td>\n",
              "      <td id=\"T_fdc38_row6_col5\" class=\"data row6 col5\" >-0.196455</td>\n",
              "      <td id=\"T_fdc38_row6_col6\" class=\"data row6 col6\" >1.000000</td>\n",
              "      <td id=\"T_fdc38_row6_col7\" class=\"data row6 col7\" >-0.738493</td>\n",
              "      <td id=\"T_fdc38_row6_col8\" class=\"data row6 col8\" >-0.398577</td>\n",
              "      <td id=\"T_fdc38_row6_col9\" class=\"data row6 col9\" >-0.273697</td>\n",
              "    </tr>\n",
              "    <tr>\n",
              "      <th id=\"T_fdc38_level0_row7\" class=\"row_heading level0 row7\" >s4</th>\n",
              "      <td id=\"T_fdc38_row7_col0\" class=\"data row7 col0\" >0.203841</td>\n",
              "      <td id=\"T_fdc38_row7_col1\" class=\"data row7 col1\" >0.332115</td>\n",
              "      <td id=\"T_fdc38_row7_col2\" class=\"data row7 col2\" >0.413807</td>\n",
              "      <td id=\"T_fdc38_row7_col3\" class=\"data row7 col3\" >0.257650</td>\n",
              "      <td id=\"T_fdc38_row7_col4\" class=\"data row7 col4\" >0.542207</td>\n",
              "      <td id=\"T_fdc38_row7_col5\" class=\"data row7 col5\" >0.659817</td>\n",
              "      <td id=\"T_fdc38_row7_col6\" class=\"data row7 col6\" >-0.738493</td>\n",
              "      <td id=\"T_fdc38_row7_col7\" class=\"data row7 col7\" >1.000000</td>\n",
              "      <td id=\"T_fdc38_row7_col8\" class=\"data row7 col8\" >0.617859</td>\n",
              "      <td id=\"T_fdc38_row7_col9\" class=\"data row7 col9\" >0.417212</td>\n",
              "    </tr>\n",
              "    <tr>\n",
              "      <th id=\"T_fdc38_level0_row8\" class=\"row_heading level0 row8\" >s5</th>\n",
              "      <td id=\"T_fdc38_row8_col0\" class=\"data row8 col0\" >0.270774</td>\n",
              "      <td id=\"T_fdc38_row8_col1\" class=\"data row8 col1\" >0.149916</td>\n",
              "      <td id=\"T_fdc38_row8_col2\" class=\"data row8 col2\" >0.446157</td>\n",
              "      <td id=\"T_fdc38_row8_col3\" class=\"data row8 col3\" >0.393480</td>\n",
              "      <td id=\"T_fdc38_row8_col4\" class=\"data row8 col4\" >0.515503</td>\n",
              "      <td id=\"T_fdc38_row8_col5\" class=\"data row8 col5\" >0.318357</td>\n",
              "      <td id=\"T_fdc38_row8_col6\" class=\"data row8 col6\" >-0.398577</td>\n",
              "      <td id=\"T_fdc38_row8_col7\" class=\"data row8 col7\" >0.617859</td>\n",
              "      <td id=\"T_fdc38_row8_col8\" class=\"data row8 col8\" >1.000000</td>\n",
              "      <td id=\"T_fdc38_row8_col9\" class=\"data row8 col9\" >0.464669</td>\n",
              "    </tr>\n",
              "    <tr>\n",
              "      <th id=\"T_fdc38_level0_row9\" class=\"row_heading level0 row9\" >s6</th>\n",
              "      <td id=\"T_fdc38_row9_col0\" class=\"data row9 col0\" >0.301731</td>\n",
              "      <td id=\"T_fdc38_row9_col1\" class=\"data row9 col1\" >0.208133</td>\n",
              "      <td id=\"T_fdc38_row9_col2\" class=\"data row9 col2\" >0.388680</td>\n",
              "      <td id=\"T_fdc38_row9_col3\" class=\"data row9 col3\" >0.390430</td>\n",
              "      <td id=\"T_fdc38_row9_col4\" class=\"data row9 col4\" >0.325717</td>\n",
              "      <td id=\"T_fdc38_row9_col5\" class=\"data row9 col5\" >0.290600</td>\n",
              "      <td id=\"T_fdc38_row9_col6\" class=\"data row9 col6\" >-0.273697</td>\n",
              "      <td id=\"T_fdc38_row9_col7\" class=\"data row9 col7\" >0.417212</td>\n",
              "      <td id=\"T_fdc38_row9_col8\" class=\"data row9 col8\" >0.464669</td>\n",
              "      <td id=\"T_fdc38_row9_col9\" class=\"data row9 col9\" >1.000000</td>\n",
              "    </tr>\n",
              "  </tbody>\n",
              "</table>\n"
            ]
          },
          "metadata": {},
          "execution_count": 372
        }
      ]
    },
    {
      "cell_type": "code",
      "source": [
        "from sklearn.linear_model import Ridge\n",
        "ridge = Ridge(alpha=1).fit(X_train,y_train)\n",
        "print(\"Score in train set (ridge) : {:.4f}\".format(ridge.score(X_train,y_train)))\n",
        "print(\"Score in test set (ridge) : {:.4f}\".format(ridge.score(X_test,y_test)))"
      ],
      "metadata": {
        "id": "4vKiNHu356QO",
        "colab": {
          "base_uri": "https://localhost:8080/"
        },
        "outputId": "d7e07530-86f7-4196-cff5-658ff2d6f64d"
      },
      "execution_count": null,
      "outputs": [
        {
          "output_type": "stream",
          "name": "stdout",
          "text": [
            "Score in train set (ridge) : 0.5414\n",
            "Score in test set (ridge) : 0.4134\n"
          ]
        }
      ]
    },
    {
      "cell_type": "code",
      "source": [
        "maxi = 0\n",
        "mini = 10000000\n",
        "count = len(ridge.coef_)\n",
        "maxi = max(np.max(ridge.coef_),maxi)\n",
        "mini = min(np.min(ridge.coef_),mini)\n",
        "print(ridge.coef_)\n",
        "plt.plot([range(0,count)], [ridge.coef_],'mo')\n",
        "plt.axis((0, count, mini - 10, maxi + 10))\n",
        "plt.axline((0, 0), (maxi, 0))\n",
        "plt.show()"
      ],
      "metadata": {
        "colab": {
          "base_uri": "https://localhost:8080/",
          "height": 466
        },
        "id": "A_sNzsa5wBex",
        "outputId": "ce5bbdb7-f85d-464f-b683-001fbe565ae4"
      },
      "execution_count": null,
      "outputs": [
        {
          "output_type": "stream",
          "name": "stdout",
          "text": [
            "[ -2.07915418 -12.5050054   18.56120212  17.53370828 -30.78636928\n",
            "  18.96016624   3.61559523  13.55452165  36.15592989   4.28183398]\n"
          ]
        },
        {
          "output_type": "display_data",
          "data": {
            "text/plain": [
              "<Figure size 640x480 with 1 Axes>"
            ],
            "image/png": "[encoded data removed]"
          },
          "metadata": {}
        }
      ]
    },
    {
      "cell_type": "code",
      "source": [
        "from sklearn.linear_model import Lasso\n",
        "lasso = Lasso().fit(X_train, y_train)\n",
        "print(\"Score in train set: {:.4f}\".format(lasso.score(X_train, y_train)))\n",
        "print(\"Score in test set: {:.4f}\".format(lasso.score(X_test, y_test)))"
      ],
      "metadata": {
        "colab": {
          "base_uri": "https://localhost:8080/"
        },
        "id": "D8S7w7WI7cPj",
        "outputId": "acd0ebac-93e1-4bf4-b6ff-64bf132197c5"
      },
      "execution_count": null,
      "outputs": [
        {
          "output_type": "stream",
          "name": "stdout",
          "text": [
            "Score in train set: 0.5362\n",
            "Score in test set: 0.4197\n"
          ]
        }
      ]
    },
    {
      "cell_type": "code",
      "source": [
        "maxi = 0\n",
        "mini = 10000000\n",
        "count = len(lasso.coef_)\n",
        "maxi = max(np.max(lasso.coef_),maxi)\n",
        "mini = min(np.min(lasso.coef_),mini)\n",
        "plt.plot([range(0,count)], [lasso.coef_],'mo')\n",
        "plt.axis((0, count, mini - 10, maxi + 10))\n",
        "plt.axline((0, 0), (maxi+1, 0))\n",
        "plt.show()"
      ],
      "metadata": {
        "colab": {
          "base_uri": "https://localhost:8080/",
          "height": 430
        },
        "id": "RxbrrIjbxV59",
        "outputId": "8e0fbc34-158d-4b4d-85de-a55d1ce51f2f"
      },
      "execution_count": null,
      "outputs": [
        {
          "output_type": "display_data",
          "data": {
            "text/plain": [
              "<Figure size 640x480 with 1 Axes>"
            ],
            "image/png": "[encoded data removed]"
          },
          "metadata": {}
        }
      ]
    },
    {
      "cell_type": "code",
      "source": [
        "ridgeCoef = ridge.coef_\n",
        "lassoCoef = lasso.coef_\n",
        "print(\"ridge.coef_: {}\".format(ridge.coef_))\n",
        "#print(\"ridge.intercept_: {}\".format(ridge.intercept_))\n",
        "print(\"lasso.coef_: {}\".format(lasso.coef_))\n",
        "#print(\"lasso.intercept_: {}\".format(lasso.intercept_))"
      ],
      "metadata": {
        "colab": {
          "base_uri": "https://localhost:8080/"
        },
        "id": "lrSJQ36K-CNb",
        "outputId": "1f9cf0f3-3113-43da-e401-35b88c079a69"
      },
      "execution_count": null,
      "outputs": [
        {
          "output_type": "stream",
          "name": "stdout",
          "text": [
            "ridge.coef_: [ -2.07915418 -12.5050054   18.56120212  17.53370828 -30.78636928\n",
            "  18.96016624   3.61559523  13.55452165  36.15592989   4.28183398]\n",
            "lasso.coef_: [ -0.87959939 -10.62479754  18.66769543  15.95212993  -3.65184529\n",
            "  -0.          -9.47563486   6.11526913  26.76775341   3.47215614]\n"
          ]
        }
      ]
    },
    {
      "cell_type": "code",
      "source": [
        "alpha_values = [0.001, 0.01, 0.02, 0.03, 0.04, 0.05, 0.06, 0.08, 1, 2, 3, 5, 8, 10, 20, 50, 100]\n",
        "#alpha_values = np.arange(0.001, 2, 0.01)\n",
        "notZeroRidgeCoef = []\n",
        "notZeroLassoCoef = []\n",
        "len(ridgeCoef.nonzero()[0])\n",
        "for alpha in alpha_values:\n",
        "  ridge = Ridge(alpha).fit(X_train, y_train)\n",
        "  lasso = Lasso(alpha).fit(X_train, y_train)\n",
        "  notZeroRidgeCoef.append(len(ridge.coef_.nonzero()[0]))\n",
        "  notZeroLassoCoef.append(len(lasso.coef_.nonzero()[0]))\n",
        "print(notZeroRidgeCoef)\n",
        "print(notZeroLassoCoef)"
      ],
      "metadata": {
        "colab": {
          "base_uri": "https://localhost:8080/"
        },
        "id": "wWJdtqWEgLPq",
        "outputId": "4b6a1074-fca8-416b-95d9-6fba43cb5b21"
      },
      "execution_count": null,
      "outputs": [
        {
          "output_type": "stream",
          "name": "stdout",
          "text": [
            "[10, 10, 10, 10, 10, 10, 10, 10, 10, 10, 10, 10, 10, 10, 10, 10, 10]\n",
            "[10, 10, 10, 10, 10, 10, 10, 10, 9, 7, 7, 7, 4, 4, 3, 0, 0]\n"
          ]
        }
      ]
    },
    {
      "cell_type": "code",
      "source": [
        "maxi = 0\n",
        "mini = 10000000\n",
        "count = len(notZeroRidgeCoef)\n",
        "maxi = max(np.max(notZeroRidgeCoef),maxi)\n",
        "mini = min(np.min(notZeroRidgeCoef),mini)\n",
        "plt.plot([range(0,count)], [notZeroRidgeCoef],'mo')\n",
        "plt.axis((0, count, mini - 10, maxi + 10))\n",
        "plt.axline((0, 0), (maxi+1, 0))\n",
        "plt.show()"
      ],
      "metadata": {
        "colab": {
          "base_uri": "https://localhost:8080/",
          "height": 435
        },
        "id": "e2MZQzqDxx0a",
        "outputId": "55e7abb7-e5c4-4353-efbd-d76dfcd3cdaa"
      },
      "execution_count": null,
      "outputs": [
        {
          "output_type": "display_data",
          "data": {
            "text/plain": [
              "<Figure size 640x480 with 1 Axes>"
            ],
            "image/png": "[encoded data removed]"
          },
          "metadata": {}
        }
      ]
    },
    {
      "cell_type": "code",
      "source": [
        "maxi = 0\n",
        "mini = 10000000\n",
        "count = len(notZeroLassoCoef)\n",
        "maxi = max(np.max(notZeroLassoCoef),maxi)\n",
        "mini = min(np.min(notZeroLassoCoef),mini)\n",
        "plt.plot([range(0,count)], [notZeroLassoCoef],'mo')\n",
        "plt.axis((0, count, mini - 10, maxi + 10))\n",
        "plt.axline((0, 0), (maxi+1, -0))\n",
        "plt.show()"
      ],
      "metadata": {
        "colab": {
          "base_uri": "https://localhost:8080/",
          "height": 435
        },
        "id": "XZ4YGkL07x2m",
        "outputId": "f951cd65-4c5e-4437-cd0f-5d88e19af6e5"
      },
      "execution_count": null,
      "outputs": [
        {
          "output_type": "display_data",
          "data": {
            "text/plain": [
              "<Figure size 640x480 with 1 Axes>"
            ],
            "image/png": "[encoded data removed]"
          },
          "metadata": {}
        }
      ]
    },
    {
      "cell_type": "code",
      "source": [
        "# Посчитайте для Ridge регрессии следующие метрики: RMSE, MAE, R^2.\n",
        "preds = ridge.predict(X_test)\n",
        "mse = mean_squared_error(y_test, preds)\n",
        "rmse = np.sqrt(mse)\n",
        "mae = mean_absolute_error(y_test, preds)\n",
        "r2 = r2_score(y_test, preds)\n",
        "print(\"RMSE: \", rmse)\n",
        "print(\"MAE: \", mae)\n",
        "print(\"R2: \", r2)"
      ],
      "metadata": {
        "colab": {
          "base_uri": "https://localhost:8080/"
        },
        "id": "2mEMjUyzFukS",
        "outputId": "f17aa737-0a15-40fa-a44c-3897acabe307"
      },
      "execution_count": null,
      "outputs": [
        {
          "output_type": "stream",
          "name": "stdout",
          "text": [
            "RMSE:  55.77888272486063\n",
            "MAE:  47.77766767135655\n",
            "R2:  0.41415196344380634\n"
          ]
        }
      ]
    },
    {
      "cell_type": "code",
      "source": [
        "from sklearn.model_selection import GridSearchCV\n",
        "from sklearn.model_selection import KFold\n",
        "import pandas as pd\n",
        "#alpha_values = [0.001, 0.01, 0.02, 0.03, 0.04, 0.05, 0.06, 0.08, 1, 2, 3, 5, 8, 10, 20, 50, 100]\n",
        "alpha_values = np.arange(0.001, 2, 0.01)\n",
        "\n",
        "grid_search = GridSearchCV(Ridge(),\n",
        "                     {\"alpha\": alpha_values},\n",
        "                     scoring = \"neg_root_mean_squared_error\",\n",
        "                     cv=KFold(n_splits=5))\n",
        "\n",
        "grid_search.fit(X_train, y_train)\n",
        "alpha = alpha_values[grid_search.best_index_];\n",
        "print('The best value of alpha is:', grid_search.best_params_)\n",
        "print('The best score is:', grid_search.best_score_)"
      ],
      "metadata": {
        "id": "zXtC4doyI4wa",
        "colab": {
          "base_uri": "https://localhost:8080/"
        },
        "outputId": "46d16cc3-fb0f-48d8-95ee-4e663fd5141f"
      },
      "execution_count": null,
      "outputs": [
        {
          "output_type": "stream",
          "name": "stdout",
          "text": [
            "The best value of alpha is: {'alpha': 1.0309999999999997}\n",
            "The best score is: -54.81243102705131\n"
          ]
        }
      ]
    },
    {
      "cell_type": "code",
      "source": [
        "grid_search.predict(X_test)\n",
        "grid_search_results = pd.DataFrame(grid_search.cv_results_)\n",
        "plt.plot(alpha_values, -grid_search.cv_results_[\"mean_test_score\"])\n",
        "plt.show()"
      ],
      "metadata": {
        "colab": {
          "base_uri": "https://localhost:8080/",
          "height": 430
        },
        "id": "1wPGDDaj6LTz",
        "outputId": "77a89102-6453-45cb-fad4-c200182ccd22"
      },
      "execution_count": null,
      "outputs": [
        {
          "output_type": "display_data",
          "data": {
            "text/plain": [
              "<Figure size 640x480 with 1 Axes>"
            ],
            "image/png": "[encoded data removed]"
          },
          "metadata": {}
        }
      ]
    },
    {
      "cell_type": "code",
      "source": [
        "ridge = Ridge(alpha = alpha).fit(X_train, y_train)\n",
        "preds = ridge.predict(X_test)\n",
        "mse = mean_squared_error(y_test, preds)\n",
        "rmse = np.sqrt(mse)\n",
        "mae = mean_absolute_error(y_test, preds)\n",
        "r2 = r2_score(y_test, preds)\n",
        "print(\"RMSE: \", rmse)\n",
        "print(\"MAE: \", mae)\n",
        "print(\"R2: \", r2)"
      ],
      "metadata": {
        "colab": {
          "base_uri": "https://localhost:8080/"
        },
        "id": "i46S_g3iEs4U",
        "outputId": "baefaac1-c4d6-4b41-eded-4b545946fa03"
      },
      "execution_count": null,
      "outputs": [
        {
          "output_type": "stream",
          "name": "stdout",
          "text": [
            "RMSE:  55.811597658472124\n",
            "MAE:  47.1150931272799\n",
            "R2:  0.41346454916744735\n"
          ]
        }
      ]
    },
    {
      "cell_type": "code",
      "source": [
        "grid_search = GridSearchCV(Ridge(),\n",
        "                     {\"alpha\": alpha_values},\n",
        "                     scoring = \"neg_mean_absolute_error\",\n",
        "                     cv = KFold(n_splits=5))\n",
        "\n",
        "grid_search.fit(X_train, y_train)\n",
        "alpha = alpha_values[grid_search.best_index_];\n",
        "print('The best value of alpha is:', grid_search.best_params_)\n",
        "print('The best score is:', grid_search.best_score_)"
      ],
      "metadata": {
        "colab": {
          "base_uri": "https://localhost:8080/"
        },
        "id": "TK-Go5o7tD_v",
        "outputId": "6cd066e2-1ee8-454f-ac2a-818658648f40"
      },
      "execution_count": null,
      "outputs": [
        {
          "output_type": "stream",
          "name": "stdout",
          "text": [
            "The best value of alpha is: {'alpha': 0.5609999999999999}\n",
            "The best score is: -43.47764933022263\n"
          ]
        }
      ]
    },
    {
      "cell_type": "code",
      "source": [
        "grid_search.predict(X_test)\n",
        "grid_search_results = pd.DataFrame(grid_search.cv_results_)\n",
        "plt.plot(alpha_values, -grid_search.cv_results_[\"mean_test_score\"])\n",
        "plt.show()"
      ],
      "metadata": {
        "colab": {
          "base_uri": "https://localhost:8080/",
          "height": 430
        },
        "id": "K2UMA_2H7Udr",
        "outputId": "4b02edec-db4f-4b09-b805-5f0a3157c041"
      },
      "execution_count": null,
      "outputs": [
        {
          "output_type": "display_data",
          "data": {
            "text/plain": [
              "<Figure size 640x480 with 1 Axes>"
            ],
            "image/png": "[encoded data removed]"
          },
          "metadata": {}
        }
      ]
    },
    {
      "cell_type": "code",
      "source": [
        "ridge = Ridge(alpha = alpha).fit(X_train, y_train)\n",
        "preds = ridge.predict(X_test)\n",
        "mse = mean_squared_error(y_test, preds)\n",
        "rmse = np.sqrt(mse)\n",
        "mae = mean_absolute_error(y_test, preds)\n",
        "r2 = r2_score(y_test, preds)\n",
        "print(\"RMSE: \", rmse)\n",
        "print(\"MAE: \", mae)\n",
        "print(\"R2: \", r2)"
      ],
      "metadata": {
        "colab": {
          "base_uri": "https://localhost:8080/"
        },
        "id": "xtUsSDOaEr6H",
        "outputId": "f001c3e0-07c4-4cce-a4ba-1213680f57e6"
      },
      "execution_count": null,
      "outputs": [
        {
          "output_type": "stream",
          "name": "stdout",
          "text": [
            "RMSE:  55.8456446138377\n",
            "MAE:  47.14593076715566\n",
            "R2:  0.41274871811218294\n"
          ]
        }
      ]
    },
    {
      "cell_type": "code",
      "source": [
        "grid_search = GridSearchCV(Ridge(),\n",
        "                     {\"alpha\": alpha_values},\n",
        "                     scoring = \"r2\",\n",
        "                     cv = KFold(n_splits=5))\n",
        "\n",
        "grid_search.fit(X_train, y_train)\n",
        "alpha = alpha_values[grid_search.best_index_];\n",
        "print('The best value of alpha is:', grid_search.best_params_)\n",
        "print('The best score is:', grid_search.best_score_)"
      ],
      "metadata": {
        "colab": {
          "base_uri": "https://localhost:8080/"
        },
        "id": "_Xiu_zD_tQkt",
        "outputId": "a3d46b89-8cc0-4913-f843-a6218f9fa1f5"
      },
      "execution_count": null,
      "outputs": [
        {
          "output_type": "stream",
          "name": "stdout",
          "text": [
            "The best value of alpha is: {'alpha': 0.9609999999999999}\n",
            "The best score is: 0.5058600420246296\n"
          ]
        }
      ]
    },
    {
      "cell_type": "code",
      "source": [
        "grid_search.predict(X_test)\n",
        "grid_search_results = pd.DataFrame(grid_search.cv_results_)\n",
        "plt.plot(alpha_values, grid_search.cv_results_[\"mean_test_score\"])\n",
        "plt.show()"
      ],
      "metadata": {
        "colab": {
          "base_uri": "https://localhost:8080/",
          "height": 430
        },
        "id": "Z0yxJAN27i3s",
        "outputId": "b0c09072-d7c9-4a32-bc9c-aac3035849ca"
      },
      "execution_count": null,
      "outputs": [
        {
          "output_type": "display_data",
          "data": {
            "text/plain": [
              "<Figure size 640x480 with 1 Axes>"
            ],
            "image/png": "[encoded data removed]"
          },
          "metadata": {}
        }
      ]
    },
    {
      "cell_type": "code",
      "source": [
        "ridge = Ridge(alpha = alpha).fit(X_train, y_train)\n",
        "preds = ridge.predict(X_test)\n",
        "mse = mean_squared_error(y_test, preds)\n",
        "rmse = np.sqrt(mse)\n",
        "mae = mean_absolute_error(y_test, preds)\n",
        "r2 = r2_score(y_test, preds)\n",
        "print(\"RMSE: \", rmse)\n",
        "print(\"MAE: \", mae)\n",
        "print(\"R2: \", r2)"
      ],
      "metadata": {
        "colab": {
          "base_uri": "https://localhost:8080/"
        },
        "id": "jQd2HKCGEt0H",
        "outputId": "6bcab85d-6fd1-40ac-97e4-e4c3c503f68b"
      },
      "execution_count": null,
      "outputs": [
        {
          "output_type": "stream",
          "name": "stdout",
          "text": [
            "RMSE:  55.81570041869689\n",
            "MAE:  47.11913102149197\n",
            "R2:  0.41337831251170254\n"
          ]
        }
      ]
    },
    {
      "cell_type": "code",
      "source": [
        "from sklearn.model_selection import cross_val_predict\n",
        "from sklearn.model_selection import cross_validate\n",
        "ridge = Ridge()\n",
        "cv_pred = cross_val_predict(ridge,\n",
        "                            X_train, y_train,\n",
        "                            cv=KFold(n_splits=5).split(X_train,y_train))\n",
        "ridge.fit(X_train, y_train)\n",
        "\n",
        "print('MSE: ', mean_squared_error(y_test, ridge.predict(X_test)))\n",
        "\n",
        "errors = (y_train - cv_pred) **2\n",
        "plt.hist(errors)\n",
        "plt.show()"
      ],
      "metadata": {
        "colab": {
          "base_uri": "https://localhost:8080/",
          "height": 448
        },
        "id": "xoq671aNLByh",
        "outputId": "418e7d87-c4fe-4b54-e13d-a4e1e4af23ec"
      },
      "execution_count": null,
      "outputs": [
        {
          "output_type": "stream",
          "name": "stdout",
          "text": [
            "MSE:  3115.133445349661\n"
          ]
        },
        {
          "output_type": "display_data",
          "data": {
            "text/plain": [
              "<Figure size 640x480 with 1 Axes>"
            ],
            "image/png": "[encoded data removed]"
          },
          "metadata": {}
        }
      ]
    },
    {
      "cell_type": "code",
      "source": [
        "mask = np.where(errors<1400)[0]\n",
        "print(mask.shape)\n",
        "X_train_clear = pd.DataFrame(X_train).iloc[mask]\n",
        "y_train_clear = pd.DataFrame(y_train).iloc[mask]\n",
        "ridge.fit(X_train_clear, y_train_clear)\n",
        "print(mean_squared_error(y_test, ridge.predict(X_test)))"
      ],
      "metadata": {
        "colab": {
          "base_uri": "https://localhost:8080/"
        },
        "id": "1sqllNxnH1ai",
        "outputId": "08e45b78-1da5-4290-b097-a18b8b08a5cb"
      },
      "execution_count": null,
      "outputs": [
        {
          "output_type": "stream",
          "name": "stdout",
          "text": [
            "(155,)\n",
            "3101.684745516192\n"
          ]
        }
      ]
    },
    {
      "cell_type": "code",
      "source": [
        "preds = ridge.predict(X_test)\n",
        "mse = mean_squared_error(y_test,preds)\n",
        "rmse=np.sqrt(mse)\n",
        "mae = mean_absolute_error(y_test,preds)\n",
        "r2=r2_score(y_test,preds)\n",
        "print(\"RMSE: \", rmse)\n",
        "print(\"MAE: \", mae)\n",
        "print(\"R2: \", r2)"
      ],
      "metadata": {
        "id": "g-TeLOMzLEfo",
        "colab": {
          "base_uri": "https://localhost:8080/"
        },
        "outputId": "c5c67a04-34b2-4456-9ca6-2045db676c15"
      },
      "execution_count": null,
      "outputs": [
        {
          "output_type": "stream",
          "name": "stdout",
          "text": [
            "RMSE:  55.69277103463422\n",
            "MAE:  47.04625777345564\n",
            "R2:  0.4159594368450261\n"
          ]
        }
      ]
    }
  ]
}